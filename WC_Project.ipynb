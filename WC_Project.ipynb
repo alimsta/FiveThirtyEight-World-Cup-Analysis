{
 "cells": [
  {
   "cell_type": "markdown",
   "metadata": {},
   "source": [
    "This is a graphical analysis of FiveThirtyEight's 2018 FIFA World Cup tournament predictions. We will do a sort of 'Bayesian' analysis in that we will compare how well the predictions match suspected, logical trends in the tournament data (for example, how we might expect game score differentials to decrease as games become more competitive later in the tournament)."
   ]
  },
  {
   "cell_type": "markdown",
   "metadata": {},
   "source": [
    "First, we import the CSV dataset into a pandas dataframe."
   ]
  },
  {
   "cell_type": "code",
   "execution_count": null,
   "metadata": {},
   "outputs": [],
   "source": [
    "import pandas as pd\n",
    "\n",
    "df = pd.read_csv(\"wc_matches.csv\")\n",
    "\n",
    "with pd.option_context('display.max_rows', 10, 'display.max_columns', None):\n",
    "    display(df)"
   ]
  },
  {
   "cell_type": "markdown",
   "metadata": {},
   "source": [
    "For our first analysis, we are going to compare the projected scores to the actual scores for each match by plotting the scalar goal differentials."
   ]
  },
  {
   "cell_type": "code",
   "execution_count": 43,
   "metadata": {},
   "outputs": [
    {
     "data": {
      "text/html": [
       "<div>\n",
       "<style>\n",
       "    .dataframe thead tr:only-child th {\n",
       "        text-align: right;\n",
       "    }\n",
       "\n",
       "    .dataframe thead th {\n",
       "        text-align: left;\n",
       "    }\n",
       "\n",
       "    .dataframe tbody tr th {\n",
       "        vertical-align: top;\n",
       "    }\n",
       "</style>\n",
       "<table border=\"1\" class=\"dataframe\">\n",
       "  <thead>\n",
       "    <tr style=\"text-align: right;\">\n",
       "      <th></th>\n",
       "      <th>team1</th>\n",
       "      <th>team2</th>\n",
       "      <th>proj_score1</th>\n",
       "      <th>proj_score2</th>\n",
       "      <th>score1</th>\n",
       "      <th>score2</th>\n",
       "      <th>proj_diff</th>\n",
       "      <th>diff</th>\n",
       "    </tr>\n",
       "  </thead>\n",
       "  <tbody>\n",
       "    <tr>\n",
       "      <th>0</th>\n",
       "      <td>Russia</td>\n",
       "      <td>Saudi Arabia</td>\n",
       "      <td>2.03</td>\n",
       "      <td>0.73</td>\n",
       "      <td>5</td>\n",
       "      <td>0</td>\n",
       "      <td>1.30</td>\n",
       "      <td>5</td>\n",
       "    </tr>\n",
       "    <tr>\n",
       "      <th>1</th>\n",
       "      <td>Egypt</td>\n",
       "      <td>Uruguay</td>\n",
       "      <td>0.82</td>\n",
       "      <td>1.61</td>\n",
       "      <td>0</td>\n",
       "      <td>1</td>\n",
       "      <td>0.79</td>\n",
       "      <td>1</td>\n",
       "    </tr>\n",
       "    <tr>\n",
       "      <th>2</th>\n",
       "      <td>Morocco</td>\n",
       "      <td>Iran</td>\n",
       "      <td>1.13</td>\n",
       "      <td>0.86</td>\n",
       "      <td>0</td>\n",
       "      <td>1</td>\n",
       "      <td>0.27</td>\n",
       "      <td>1</td>\n",
       "    </tr>\n",
       "    <tr>\n",
       "      <th>3</th>\n",
       "      <td>Portugal</td>\n",
       "      <td>Spain</td>\n",
       "      <td>1.07</td>\n",
       "      <td>1.60</td>\n",
       "      <td>3</td>\n",
       "      <td>3</td>\n",
       "      <td>0.53</td>\n",
       "      <td>0</td>\n",
       "    </tr>\n",
       "    <tr>\n",
       "      <th>4</th>\n",
       "      <td>France</td>\n",
       "      <td>Australia</td>\n",
       "      <td>2.61</td>\n",
       "      <td>0.69</td>\n",
       "      <td>2</td>\n",
       "      <td>1</td>\n",
       "      <td>1.92</td>\n",
       "      <td>1</td>\n",
       "    </tr>\n",
       "    <tr>\n",
       "      <th>...</th>\n",
       "      <td>...</td>\n",
       "      <td>...</td>\n",
       "      <td>...</td>\n",
       "      <td>...</td>\n",
       "      <td>...</td>\n",
       "      <td>...</td>\n",
       "      <td>...</td>\n",
       "      <td>...</td>\n",
       "    </tr>\n",
       "    <tr>\n",
       "      <th>59</th>\n",
       "      <td>Russia</td>\n",
       "      <td>Croatia</td>\n",
       "      <td>1.10</td>\n",
       "      <td>1.52</td>\n",
       "      <td>2</td>\n",
       "      <td>2</td>\n",
       "      <td>0.42</td>\n",
       "      <td>0</td>\n",
       "    </tr>\n",
       "    <tr>\n",
       "      <th>60</th>\n",
       "      <td>France</td>\n",
       "      <td>Belgium</td>\n",
       "      <td>1.62</td>\n",
       "      <td>1.52</td>\n",
       "      <td>1</td>\n",
       "      <td>0</td>\n",
       "      <td>0.10</td>\n",
       "      <td>1</td>\n",
       "    </tr>\n",
       "    <tr>\n",
       "      <th>61</th>\n",
       "      <td>Croatia</td>\n",
       "      <td>England</td>\n",
       "      <td>1.10</td>\n",
       "      <td>1.34</td>\n",
       "      <td>2</td>\n",
       "      <td>1</td>\n",
       "      <td>0.24</td>\n",
       "      <td>1</td>\n",
       "    </tr>\n",
       "    <tr>\n",
       "      <th>62</th>\n",
       "      <td>Belgium</td>\n",
       "      <td>England</td>\n",
       "      <td>1.42</td>\n",
       "      <td>1.39</td>\n",
       "      <td>2</td>\n",
       "      <td>0</td>\n",
       "      <td>0.03</td>\n",
       "      <td>2</td>\n",
       "    </tr>\n",
       "    <tr>\n",
       "      <th>63</th>\n",
       "      <td>France</td>\n",
       "      <td>Croatia</td>\n",
       "      <td>1.51</td>\n",
       "      <td>1.15</td>\n",
       "      <td>4</td>\n",
       "      <td>2</td>\n",
       "      <td>0.36</td>\n",
       "      <td>2</td>\n",
       "    </tr>\n",
       "  </tbody>\n",
       "</table>\n",
       "<p>64 rows × 8 columns</p>\n",
       "</div>"
      ],
      "text/plain": [
       "       team1         team2  proj_score1  proj_score2  score1  score2  \\\n",
       "0     Russia  Saudi Arabia         2.03         0.73       5       0   \n",
       "1      Egypt       Uruguay         0.82         1.61       0       1   \n",
       "2    Morocco          Iran         1.13         0.86       0       1   \n",
       "3   Portugal         Spain         1.07         1.60       3       3   \n",
       "4     France     Australia         2.61         0.69       2       1   \n",
       "..       ...           ...          ...          ...     ...     ...   \n",
       "59    Russia       Croatia         1.10         1.52       2       2   \n",
       "60    France       Belgium         1.62         1.52       1       0   \n",
       "61   Croatia       England         1.10         1.34       2       1   \n",
       "62   Belgium       England         1.42         1.39       2       0   \n",
       "63    France       Croatia         1.51         1.15       4       2   \n",
       "\n",
       "    proj_diff  diff  \n",
       "0        1.30     5  \n",
       "1        0.79     1  \n",
       "2        0.27     1  \n",
       "3        0.53     0  \n",
       "4        1.92     1  \n",
       "..        ...   ...  \n",
       "59       0.42     0  \n",
       "60       0.10     1  \n",
       "61       0.24     1  \n",
       "62       0.03     2  \n",
       "63       0.36     2  \n",
       "\n",
       "[64 rows x 8 columns]"
      ]
     },
     "metadata": {},
     "output_type": "display_data"
    }
   ],
   "source": [
    "scores = df[['team1', 'team2', 'proj_score1', 'proj_score2', 'score1', 'score2']].copy()\n",
    "\n",
    "scores['proj_diff'] = abs(scores['proj_score1'] - scores['proj_score2'])\n",
    "scores['diff'] = abs(scores['score1'] - scores['score2'])\n",
    "\n",
    "with pd.option_context('display.max_rows', 10, 'display.max_columns', None):\n",
    "    display(scores)"
   ]
  },
  {
   "cell_type": "markdown",
   "metadata": {},
   "source": [
    "Preparing data for visualizing"
   ]
  },
  {
   "cell_type": "code",
   "execution_count": null,
   "metadata": {},
   "outputs": [],
   "source": [
    "proj_data = scores['proj_diff'].tolist()\n",
    "real_data = scores['diff'].tolist()\n",
    "matches = [team1 + '-' + team2 for team1, team2 in zip(scores['team1'], scores['team2'])]"
   ]
  },
  {
   "cell_type": "code",
   "execution_count": null,
   "metadata": {},
   "outputs": [],
   "source": [
    "import plotly\n",
    "import plotly.plotly as py\n",
    "import plotly.graph_objs as go\n"
   ]
  },
  {
   "cell_type": "markdown",
   "metadata": {},
   "source": [
    "Formatting bar graph plot."
   ]
  },
  {
   "cell_type": "code",
   "execution_count": 19,
   "metadata": {},
   "outputs": [
    {
     "data": {
      "text/html": [
       "<iframe id=\"igraph\" scrolling=\"no\" style=\"border:none;\" seamless=\"seamless\" src=\"https://plot.ly/~alimsta/2.embed\" height=\"525px\" width=\"100%\"></iframe>"
      ],
      "text/plain": [
       "<plotly.tools.PlotlyDisplay object>"
      ]
     },
     "execution_count": 19,
     "metadata": {},
     "output_type": "execute_result"
    }
   ],
   "source": [
    "import plotly.plotly as py\n",
    "import plotly.graph_objs as go\n",
    "\n",
    "plotly.tools.set_credentials_file(username='alimsta', api_key='r3rCBmfUAdlXGChHeolY')\n",
    "\n",
    "proj_bar = go.Bar(\n",
    "    x=matches,\n",
    "    y=proj_data,\n",
    "    text=proj_data,\n",
    "    textposition = 'auto',\n",
    "    marker=dict(\n",
    "        color='rgb(204,204,204)'\n",
    "        ),\n",
    "    name = 'Projected',\n",
    "    opacity=0.7\n",
    ")\n",
    "\n",
    "real_bar = go.Bar(\n",
    "    x=matches,\n",
    "    y=real_data,\n",
    "    text=real_data,\n",
    "    textposition = 'auto',\n",
    "    marker=dict(\n",
    "        color='rgb(49,130,189)'\n",
    "        ),\n",
    "    name = 'Actual',\n",
    "    opacity=0.7\n",
    ")\n",
    "\n",
    "plots = [proj_bar,real_bar]\n",
    "\n",
    "\n",
    "py.iplot(plots, filename='games-graph')"
   ]
  },
  {
   "cell_type": "markdown",
   "metadata": {},
   "source": [
    "One might expect there to be a decrease in goal differential (particularly starting during the playoff stage where the top two teams from each group have moved on) as games become more competitive. We can see if this phenomenon exists by creating regression lines for the projected and actual games."
   ]
  },
  {
   "cell_type": "code",
   "execution_count": 42,
   "metadata": {},
   "outputs": [
    {
     "data": {
      "text/html": [
       "<iframe id=\"igraph\" scrolling=\"no\" style=\"border:none;\" seamless=\"seamless\" src=\"https://plot.ly/~alimsta/4.embed\" height=\"525px\" width=\"100%\"></iframe>"
      ],
      "text/plain": [
       "<plotly.tools.PlotlyDisplay object>"
      ]
     },
     "execution_count": 42,
     "metadata": {},
     "output_type": "execute_result"
    }
   ],
   "source": [
    "from scipy import stats\n",
    "import numpy as np\n",
    "\n",
    "xi = np.arange(1, 65, 1)\n",
    "y1 = proj_data\n",
    "y2 = real_data\n",
    "\n",
    "slope1, intercept1, r_value1, p_value1, std_err1 = stats.linregress(xi,y1)\n",
    "line1 = slope1*xi+intercept1\n",
    "\n",
    "slope2, intercept2, r_value2, p_value2, std_err2 = stats.linregress(xi,y2)\n",
    "line2 = slope2*xi+intercept2\n",
    "\n",
    "trace1 = go.Scatter(\n",
    "                  x=xi,\n",
    "                  y=line1,\n",
    "                  mode='lines',\n",
    "                  marker=dict(color='blue'),\n",
    "                  name='Projected Fit'\n",
    "                  )\n",
    "\n",
    "trace2 = go.Scatter(\n",
    "                  x=xi,\n",
    "                  y=line2,\n",
    "                  mode='lines',\n",
    "                  marker=dict(color='green'),\n",
    "                  name='Real Fit'\n",
    "                  )\n",
    "\n",
    "scatter1 = go.Scatter(x = xi, \n",
    "                     y = proj_data,\n",
    "                     text = matches,\n",
    "                    mode = 'markers',\n",
    "                    marker=dict(color='blue'),\n",
    "                     name = 'Projected',\n",
    "                     opacity = 0.5)\n",
    "scatter2 = go.Scatter(x = xi, \n",
    "                     y = real_data,\n",
    "                     text = matches,\n",
    "                      mode = 'markers',\n",
    "                      marker=dict(color='green'),\n",
    "                     name = 'Real',\n",
    "                     opacity = 0.5)\n",
    "\n",
    "\n",
    "plots = [scatter1,scatter2,trace1,trace2]\n",
    "\n",
    "\n",
    "py.iplot(plots, filename='scatter-graph')"
   ]
  },
  {
   "cell_type": "markdown",
   "metadata": {},
   "source": [
    "We can see a gradual decrease in the actual goal differential through the tournament as we would expect. FiveThirtyEight's projected scores also corroborate this observation, albeit with greater slope. This could suggest some things about their predictions. They could believe that, based on the knockout stage games, the advancing teams have little variance in performance and so games should be extremely close in score. Additionally, they could have historical reasons to believe the scores would be closer, perhaps referencing previous head-to-head mathches."
   ]
  },
  {
   "cell_type": "code",
   "execution_count": null,
   "metadata": {},
   "outputs": [],
   "source": []
  }
 ],
 "metadata": {
  "kernelspec": {
   "display_name": "Python 3",
   "language": "python",
   "name": "python3"
  },
  "language_info": {
   "codemirror_mode": {
    "name": "ipython",
    "version": 3
   },
   "file_extension": ".py",
   "mimetype": "text/x-python",
   "name": "python",
   "nbconvert_exporter": "python",
   "pygments_lexer": "ipython3",
   "version": "3.6.1"
  }
 },
 "nbformat": 4,
 "nbformat_minor": 2
}
